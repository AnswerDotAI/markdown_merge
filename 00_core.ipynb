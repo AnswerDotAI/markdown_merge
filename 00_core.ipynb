{
 "cells": [
  {
   "cell_type": "code",
   "execution_count": null,
   "id": "922706a6",
   "metadata": {},
   "outputs": [],
   "source": [
    "#| default_exp core"
   ]
  },
  {
   "cell_type": "markdown",
   "id": "5bfebce0",
   "metadata": {},
   "source": [
    "# MarkdownMerge\n",
    "\n",
    "> API details"
   ]
  },
  {
   "cell_type": "code",
   "execution_count": null,
   "id": "880e637d",
   "metadata": {},
   "outputs": [],
   "source": [
    "#| export\n",
    "import os,mimetypes,smtplib\n",
    "\n",
    "from fastcore.utils import *\n",
    "from email.mime.multipart import MIMEMultipart\n",
    "from email.mime.text import MIMEText\n",
    "from email.mime.base import MIMEBase\n",
    "from email import encoders\n",
    "\n",
    "from contextlib import contextmanager\n",
    "from markdown import markdown\n",
    "from email.headerregistry import Address\n",
    "from time import sleep"
   ]
  },
  {
   "cell_type": "code",
   "execution_count": null,
   "id": "20971570",
   "metadata": {},
   "outputs": [],
   "source": [
    "from fastcore.test import test_eq"
   ]
  },
  {
   "cell_type": "code",
   "execution_count": null,
   "id": "bf062266",
   "metadata": {},
   "outputs": [],
   "source": [
    "#| hide\n",
    "from nbdev.showdoc import *"
   ]
  },
  {
   "cell_type": "markdown",
   "id": "2caa9356",
   "metadata": {},
   "source": [
    "## Utility functions"
   ]
  },
  {
   "cell_type": "code",
   "execution_count": null,
   "id": "1ff35358",
   "metadata": {},
   "outputs": [],
   "source": [
    "#| export\n",
    "def get_addr(email, name=None):\n",
    "    \"Convert `email` and optional `name` into an email `Address` object\"\n",
    "    return Address(email if name is None else name, addr_spec=email)"
   ]
  },
  {
   "cell_type": "markdown",
   "id": "176e53cd",
   "metadata": {},
   "source": [
    "Specify `from_addr` and `to_addrs` as either a string, or an `Address` object (created with `get_addr`). Note the `to_addrs` is a list."
   ]
  },
  {
   "cell_type": "code",
   "execution_count": null,
   "id": "707a9b46",
   "metadata": {},
   "outputs": [
    {
     "name": "stdout",
     "output_type": "stream",
     "text": [
      "Jeremy Howard <from@example.com>\n",
      "Jeremy <to@example.com>\n"
     ]
    }
   ],
   "source": [
    "from_addr = get_addr('from@example.com', 'Jeremy Howard')\n",
    "to_addrs = [get_addr('to@example.com', 'Jeremy')]\n",
    "print(from_addr)\n",
    "print(to_addrs[0])"
   ]
  },
  {
   "cell_type": "code",
   "execution_count": null,
   "id": "b20e8c4c",
   "metadata": {},
   "outputs": [],
   "source": [
    "#| export\n",
    "def attach_file(msg, f):\n",
    "    \"Attach file `f` to message `msg`\"\n",
    "    mtype,_ = mimetypes.guess_type(f)\n",
    "    main,sub = (mtype or 'application/octet-stream').split('/', 1)\n",
    "    part = MIMEBase(main, sub)\n",
    "    with open(f, 'rb') as fp: part.set_payload(fp.read())\n",
    "    encoders.encode_base64(part)\n",
    "    part['Content-Disposition'] = f'attachment; filename={Path(f).name}'\n",
    "    msg.attach(part)"
   ]
  },
  {
   "cell_type": "code",
   "execution_count": null,
   "id": "8ea51e52",
   "metadata": {},
   "outputs": [],
   "source": [
    "msg = MIMEMultipart()\n",
    "attach_file(msg, 'settings.ini')\n",
    "part = msg.get_payload()[0]\n",
    "test_eq(part.get_content_type(), 'application/octet-stream')\n",
    "test_eq(part['Content-Disposition'], 'attachment; filename=settings.ini')\n",
    "assert len(part.get_payload())>20"
   ]
  },
  {
   "cell_type": "code",
   "execution_count": null,
   "id": "230184ae",
   "metadata": {},
   "outputs": [],
   "source": [
    "#| export\n",
    "def create_multipart_msg(subj, from_addr, to_addrs, md=None, html=None, attach=None):\n",
    "    \"Create a multipart email with markdown text and HTML\"\n",
    "    msg = MIMEMultipart('alternative')\n",
    "    msg['Subject'],msg['From'] = subj,str(from_addr)\n",
    "    msg['To'] = ', '.join([str(a) for a in listify(to_addrs)])\n",
    "    if md: msg.attach(MIMEText(md, 'plain'))\n",
    "    if html: msg.attach(MIMEText(html, 'html'))\n",
    "    for f in listify(attach): attach_file(msg, f)\n",
    "    return msg"
   ]
  },
  {
   "cell_type": "code",
   "execution_count": null,
   "id": "cbdd9e64",
   "metadata": {},
   "outputs": [],
   "source": [
    "msg = create_multipart_msg('Test Subject', from_addr, to_addrs, md='**Bold text**', html='<b>Bold text</b>')\n",
    "test_eq(msg['Subject'], 'Test Subject')\n",
    "test_eq(msg['From'], str(from_addr))\n",
    "test_eq(len(msg.get_payload()), 2)\n",
    "test_eq(msg.get_payload()[0].get_content_type(), 'text/plain')\n",
    "test_eq(msg.get_payload()[1].get_content_type(), 'text/html')"
   ]
  },
  {
   "cell_type": "code",
   "execution_count": null,
   "id": "340894da",
   "metadata": {},
   "outputs": [],
   "source": [
    "#| export\n",
    "def md2email(subj, from_addr, to_addrs, md, attach=None):\n",
    "    \"Create a multipart email from markdown\"\n",
    "    html = markdown(md)\n",
    "    return create_multipart_msg(subj, from_addr, to_addrs, md=md, html=html, attach=attach)"
   ]
  },
  {
   "cell_type": "code",
   "execution_count": null,
   "id": "8cff4f96",
   "metadata": {},
   "outputs": [],
   "source": [
    "test_msg2 = md2email('Test md2email', 'support@answer.ai', 'j@answer.ai', '**Markdown** test with _attachment_', attach='settings.ini')\n",
    "test_eq(test_msg2['Subject'], 'Test md2email')\n",
    "payload = test_msg2.get_payload()\n",
    "test_eq(len(payload), 3)\n",
    "test_eq(payload[2]['Content-Disposition'], 'attachment; filename=settings.ini')"
   ]
  },
  {
   "cell_type": "markdown",
   "id": "c8ef9053",
   "metadata": {},
   "source": [
    "The basic email body is the plain text message (note that the template variables in `{}` will be filled in by `MarkdownMerge`):"
   ]
  },
  {
   "cell_type": "code",
   "execution_count": null,
   "id": "ecc6867c",
   "metadata": {},
   "outputs": [
    {
     "name": "stdout",
     "output_type": "stream",
     "text": [
      "**Markdown** test with _attachment_\n"
     ]
    }
   ],
   "source": [
    "print(payload[0].get_payload())"
   ]
  },
  {
   "cell_type": "markdown",
   "id": "e94619c0",
   "metadata": {},
   "source": [
    "Most email software is set up to display the HTML version:"
   ]
  },
  {
   "cell_type": "code",
   "execution_count": null,
   "id": "c2b562fc",
   "metadata": {},
   "outputs": [],
   "source": [
    "from IPython.display import HTML"
   ]
  },
  {
   "cell_type": "code",
   "execution_count": null,
   "id": "addae17b",
   "metadata": {},
   "outputs": [
    {
     "data": {
      "text/html": [
       "<p><strong>Markdown</strong> test with <em>attachment</em></p>"
      ],
      "text/plain": [
       "<IPython.core.display.HTML object>"
      ]
     },
     "execution_count": null,
     "metadata": {},
     "output_type": "execute_result"
    }
   ],
   "source": [
    "html = payload[1].get_payload()\n",
    "HTML(html)"
   ]
  },
  {
   "cell_type": "code",
   "execution_count": null,
   "id": "3f95b2e2",
   "metadata": {},
   "outputs": [],
   "source": [
    "att = payload[2].get_payload()"
   ]
  },
  {
   "cell_type": "code",
   "execution_count": null,
   "id": "817d417c",
   "metadata": {},
   "outputs": [],
   "source": [
    "import base64"
   ]
  },
  {
   "cell_type": "code",
   "execution_count": null,
   "id": "4b84940a",
   "metadata": {},
   "outputs": [
    {
     "name": "stdout",
     "output_type": "stream",
     "text": [
      "[DEFAULT]\n",
      "lib_name = markdown_merge\n"
     ]
    }
   ],
   "source": [
    "decoded = base64.b64decode(payload[2].get_payload())\n",
    "print(decoded.decode('utf-8')[:35])"
   ]
  },
  {
   "cell_type": "code",
   "execution_count": null,
   "id": "73e30a79",
   "metadata": {},
   "outputs": [],
   "source": [
    "#| export\n",
    "@contextmanager\n",
    "def smtp_connection(host, port, user=None, password=None, use_ssl=True, use_tls=False):\n",
    "    \"Context manager for SMTP connection\"\n",
    "    conn = smtplib.SMTP_SSL(host, port) if use_ssl else smtplib.SMTP(host, port)\n",
    "    if use_tls and not use_ssl: conn.starttls()\n",
    "    if user and password: conn.login(user, password)\n",
    "    try: yield conn\n",
    "    finally: conn.quit()"
   ]
  },
  {
   "cell_type": "code",
   "execution_count": null,
   "id": "24ff9e63",
   "metadata": {},
   "outputs": [],
   "source": [
    "servernm='email-smtp.us-west-2.amazonaws.com'\n",
    "username=os.getenv('SES_SMTP_USER')\n",
    "password=os.getenv('SES_SMTP_PASS')"
   ]
  },
  {
   "cell_type": "code",
   "execution_count": null,
   "id": "dac24c4f",
   "metadata": {},
   "outputs": [],
   "source": [
    "smtp_cfg = dict(host=servernm, port=587, user=username, password=password, use_ssl=False, use_tls=True)\n",
    "test_msg = create_multipart_msg('Test from stdlib', 'support@answer.ai', 'j@answer.ai', md='**Test message**', html='<b>Test message</b>')\n",
    "# with smtp_connection(**smtp_cfg) as conn: conn.send_message(test_msg)"
   ]
  },
  {
   "cell_type": "markdown",
   "id": "d7d20939",
   "metadata": {},
   "source": [
    "## MarkdownMerge -"
   ]
  },
  {
   "cell_type": "code",
   "execution_count": null,
   "id": "d35b0031",
   "metadata": {},
   "outputs": [],
   "source": [
    "#| export\n",
    "class MarkdownMerge:\n",
    "    \"Send templated email merge messages formatted with Markdown\"\n",
    "    def __init__(self, addrs, from_addr, subj, msg, smtp_cfg=None, inserts=None, test=False):\n",
    "        self.addrs,self.from_addr,self.subj,self.msg,self.i = addrs,from_addr,subj,msg,0\n",
    "        self.inserts = [{}]*len(addrs) if inserts is None else inserts\n",
    "        self.smtp_cfg,self.test = smtp_cfg,test\n",
    "\n",
    "    def send_msgs(self, pause=0.5):\n",
    "        \"Send all unsent messages to `addrs` with `pause` secs between each send\"\n",
    "        with smtp_connection(**self.smtp_cfg) as conn:\n",
    "            while self.i < len(self.addrs):\n",
    "                addr,insert = self.addrs[self.i],self.inserts[self.i]\n",
    "                msg = self.msg.format(**insert)\n",
    "                eml = md2email(self.subj, self.from_addr, addr, md=msg)\n",
    "                if self.test: print(f\"To: {addr}\\n{'-'*40}\\n{msg}\\n{'='*40}\\n\")\n",
    "                else: conn.send_message(eml); sleep(pause)\n",
    "                self.i += 1\n",
    "                if self.i%100==0: print(self.i)\n",
    "\n",
    "    def reset(self): self.i=0"
   ]
  },
  {
   "cell_type": "markdown",
   "id": "1e2252b5",
   "metadata": {},
   "source": [
    "Your message should be in [markdown](https://daringfireball.net/projects/markdown/syntax) format. It will be converted into a two part email, containing both a plain text and an HTML part, so recipients will see whatever format they're set as their preference for viewing mail. Anything in curly brackets `{}` will be replaced with the contents of the inserts dictionary for that address. If there are no bracketed variables to replace, then you don't need to pass any inserts."
   ]
  },
  {
   "cell_type": "code",
   "execution_count": null,
   "id": "ff2ed483",
   "metadata": {},
   "outputs": [],
   "source": [
    "msg = \"**Hello {name}!**\\n\\nYour special number is: *{num}*\""
   ]
  },
  {
   "cell_type": "markdown",
   "id": "dc4d9bf6",
   "metadata": {},
   "source": [
    "`inserts` is a list of dictionaries. For each dictionary, the keys should match the bracketed names in your email template, and the values will be filled in to those sections."
   ]
  },
  {
   "cell_type": "code",
   "execution_count": null,
   "id": "2b75a492",
   "metadata": {},
   "outputs": [],
   "source": [
    "inserts = [{'name': 'Jeremy', 'num': 42}, {'name': 'Rachel', 'num': 7}]"
   ]
  },
  {
   "cell_type": "code",
   "execution_count": null,
   "id": "b36e9061",
   "metadata": {},
   "outputs": [],
   "source": [
    "mm = MarkdownMerge(['aaa@answer.ai', 'bbb@answer.ai'], 'from@answer.ai', 'Test merge',\n",
    "                   msg, smtp_cfg=smtp_cfg, inserts=inserts, test=True)"
   ]
  },
  {
   "cell_type": "code",
   "execution_count": null,
   "id": "a892666b",
   "metadata": {},
   "outputs": [
    {
     "name": "stdout",
     "output_type": "stream",
     "text": [
      "To: aaa@answer.ai\n",
      "----------------------------------------\n",
      "**Hello Jeremy!**\n",
      "\n",
      "Your special number is: *42*\n",
      "========================================\n",
      "\n",
      "To: bbb@answer.ai\n",
      "----------------------------------------\n",
      "**Hello Rachel!**\n",
      "\n",
      "Your special number is: *7*\n",
      "========================================\n",
      "\n"
     ]
    }
   ],
   "source": [
    "#| eval: false\n",
    "mm.send_msgs()"
   ]
  },
  {
   "cell_type": "markdown",
   "id": "6640b505",
   "metadata": {},
   "source": [
    "Use `pause` to avoid sending too many messages too quickly; many SMTP servers restrict sending speed to avoid abuse. If you get an error during sending (e.g. \"too many messages\"), then wait an hour or so, then continue sending, using a larger `pause` value.\n",
    "\n",
    "**NB**: You can just call `send_msgs` again when resending, since the successfully sent message count is saved, and those messages are not re-sent (unless you call `reset`). This includes test sends, therefore you should run reset after a test send.\n",
    "\n",
    "To reset the counter to `0`, call `reset`:"
   ]
  },
  {
   "cell_type": "code",
   "execution_count": null,
   "id": "f46b2ece",
   "metadata": {},
   "outputs": [],
   "source": [
    "mm.reset()"
   ]
  }
 ],
 "metadata": {
  "kernelspec": {
   "display_name": "python3",
   "language": "python",
   "name": "python3"
  }
 },
 "nbformat": 4,
 "nbformat_minor": 5
}
