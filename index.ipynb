{
 "cells": [
  {
   "cell_type": "code",
   "execution_count": 1,
   "metadata": {},
   "outputs": [],
   "source": [
    "#| hide\n",
    "from markdown_merge import *"
   ]
  },
  {
   "cell_type": "markdown",
   "metadata": {},
   "source": [
    "# MarkdownMerge\n",
    "\n",
    "> Send templated emails in markdown."
   ]
  },
  {
   "cell_type": "markdown",
   "metadata": {},
   "source": [
    "## Install"
   ]
  },
  {
   "cell_type": "markdown",
   "metadata": {},
   "source": [
    "`pip install markdown_merge`"
   ]
  },
  {
   "cell_type": "markdown",
   "metadata": {},
   "source": [
    "## How to use"
   ]
  },
  {
   "cell_type": "markdown",
   "metadata": {},
   "source": [
    "### Provide your SMTP server settings, e.g. for AWS SES"
   ]
  },
  {
   "cell_type": "code",
   "execution_count": 2,
   "metadata": {},
   "outputs": [],
   "source": [
    "import os"
   ]
  },
  {
   "cell_type": "code",
   "execution_count": 3,
   "metadata": {},
   "outputs": [],
   "source": [
    "servernm = 'email-smtp.us-west-2.amazonaws.com'\n",
    "username = os.getenv('SES_SMTP_USER')\n",
    "password = os.getenv('SES_SMTP_PASS')\n",
    "smtp_cfg = dict(host=servernm, port=587, user=username, password=password, use_ssl=False, use_tls=True)"
   ]
  },
  {
   "cell_type": "markdown",
   "metadata": {},
   "source": [
    "You can configure your SMTP server settings using the `smtp_cfg` dictionary format shown above. The example uses AWS SES with environment variables for credentials."
   ]
  },
  {
   "cell_type": "markdown",
   "metadata": {},
   "source": [
    "### Provide your email details"
   ]
  },
  {
   "cell_type": "code",
   "execution_count": 4,
   "metadata": {},
   "outputs": [],
   "source": [
    "from_addr = get_addr('XXX@fastmail.com', 'Jeremy Howard')\n",
    "to_addrs = [get_addr('douglas@example.com', 'Douglas Adams'),\n",
    "            get_addr('cleese@example.com', 'John Cleese')]\n",
    "inserts  = [{'special': \"Thanks for all the fish.\"},\n",
    "            {'special': \"That was a silly walk.\"}]\n",
    "\n",
    "msg = \"\"\"## Hello there!\n",
    "\n",
    "Here is your special message: *{special}*\"\"\""
   ]
  },
  {
   "cell_type": "code",
   "execution_count": 5,
   "metadata": {},
   "outputs": [],
   "source": [
    "ml = MarkdownMerge(to_addrs, from_addr, 'A message', msg, smtp_cfg=smtp_cfg, inserts=inserts, test=True)"
   ]
  },
  {
   "cell_type": "markdown",
   "metadata": {},
   "source": [
    "The `test=True` parameter prints the messages instead of sending them."
   ]
  },
  {
   "cell_type": "markdown",
   "metadata": {},
   "source": [
    "### Send your messages"
   ]
  },
  {
   "cell_type": "code",
   "execution_count": 6,
   "metadata": {},
   "outputs": [
    {
     "name": "stdout",
     "output_type": "stream",
     "text": [
      "To: Douglas Adams <douglas@example.com>\n",
      "----------------------------------------\n",
      "## Hello there!\n",
      "\n",
      "Here is your special message: *Thanks for all the fish.*\n",
      "========================================\n",
      "\n",
      "To: John Cleese <cleese@example.com>\n",
      "----------------------------------------\n",
      "## Hello there!\n",
      "\n",
      "Here is your special message: *That was a silly walk.*\n",
      "========================================\n",
      "\n"
     ]
    }
   ],
   "source": [
    "ml.send_msgs()"
   ]
  },
  {
   "cell_type": "code",
   "execution_count": null,
   "metadata": {},
   "outputs": [],
   "source": []
  }
 ],
 "metadata": {
  "kernelspec": {
   "display_name": "Python 3 (ipykernel)",
   "language": "python",
   "name": "python3"
  },
  "language_info": {
   "codemirror_mode": {
    "name": "ipython",
    "version": 3
   },
   "file_extension": ".py",
   "mimetype": "text/x-python",
   "name": "python",
   "nbconvert_exporter": "python",
   "pygments_lexer": "ipython3",
   "version": "3.12.8"
  }
 },
 "nbformat": 4,
 "nbformat_minor": 4
}
