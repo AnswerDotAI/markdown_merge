{
 "cells": [
  {
   "cell_type": "code",
   "execution_count": 1,
   "metadata": {},
   "outputs": [],
   "source": [
    "# default_exp markdown_merge"
   ]
  },
  {
   "cell_type": "code",
   "execution_count": 2,
   "metadata": {},
   "outputs": [],
   "source": [
    "#export\n",
    "from django.core.mail import *\n",
    "from django.conf import *\n",
    "from markdown import markdown\n",
    "from email.headerregistry import Address\n",
    "from time import sleep\n",
    "import os"
   ]
  },
  {
   "cell_type": "code",
   "execution_count": 5,
   "metadata": {},
   "outputs": [],
   "source": [
    "from nbdev.showdoc import *"
   ]
  },
  {
   "cell_type": "code",
   "execution_count": 7,
   "metadata": {},
   "outputs": [],
   "source": [
    "#export\n",
    "def get_addr(email, name=None):\n",
    "    \"Convert `email` and optional `name` into an email `Address` object\"\n",
    "    return Address(email if name is None else name, addr_spec=email)"
   ]
  },
  {
   "cell_type": "code",
   "execution_count": 8,
   "metadata": {},
   "outputs": [],
   "source": [
    "#export\n",
    "def md2email(subj, from_addr, to_addrs, md, conn=None, attach=None):\n",
    "    \"Create a multipart (markdown HTML and text) email\"\n",
    "    if not isinstance(to_addrs, (list,tuple)): to_addrs = [to_addrs]\n",
    "    msg = EmailMultiAlternatives(subj, md, str(from_addr), [str(o) for o in to_addrs], connection=conn)\n",
    "    msg.attach_alternative(markdown(md), \"text/html\")\n",
    "    if attach is not None:\n",
    "        if not isinstance(attach, (list,tuple)): attach = [attach]\n",
    "        for att in attach: msg.attach_file(att)\n",
    "    return msg"
   ]
  },
  {
   "cell_type": "code",
   "execution_count": 9,
   "metadata": {},
   "outputs": [],
   "source": [
    "#export\n",
    "class MarkdownMerge:\n",
    "    \"Send a templated email merge message formatted with Markdown\"\n",
    "    def __init__(self, addrs, from_addr, subj, msg, server_settings=None, inserts=None):\n",
    "        if server_settings is None: os.environ['DJANGO_SETTINGS_MODULE'] = 'mail_settings'\n",
    "        else:\n",
    "            settings._wrapped=empty\n",
    "            settings.configure(SECRET_KEY='XXX', **server_settings)\n",
    "        self.addrs,self.from_addr,self.subj,self.msg,self.i = addrs,from_addr,subj,msg,0\n",
    "        self.inserts = [{}]*len(addrs) if inserts is None else inserts\n",
    "\n",
    "    def send_msgs(self, pause=0.5):\n",
    "        \"Send all unsent messages to `addrs` with `pause` secs between each send\"\n",
    "        with get_connection() as conn:\n",
    "            while self.i < len(self.addrs):\n",
    "                addr,insert = self.addrs[self.i],self.inserts[self.i]\n",
    "                msg = self.msg.format(**insert)\n",
    "                md2email(self.subj, self.from_addr, addr, md=msg, conn=conn).send()\n",
    "                sleep(pause)\n",
    "                self.i += 1\n",
    "                if self.i%100==0: print(self.i)\n",
    "\n",
    "    def set_test(self, test=True):\n",
    "        \"When `True`, just print the messages to the console, don't send them\"\n",
    "        backend = ('smtp','console')[test]\n",
    "        settings.EMAIL_BACKEND = f'django.core.mail.backends.{backend}.EmailBackend'\n",
    "\n",
    "    def reset(self):\n",
    "        \"Reset sent message list, so `send_msgs` will start from first message\"\n",
    "        self.i=0"
   ]
  },
  {
   "cell_type": "markdown",
   "metadata": {},
   "source": [
    "Specify `from_addr` and `to_addrs` as either a string, or an `Address` object (created with `get_addr`). Note the `to_addrs` is a list."
   ]
  },
  {
   "cell_type": "code",
   "execution_count": 46,
   "metadata": {},
   "outputs": [],
   "source": [
    "from_addr = get_addr('from@example.com', 'Jeremy Howard')\n",
    "to_addrs = [get_addr('to@example.com', 'Jeremy')]"
   ]
  },
  {
   "cell_type": "markdown",
   "metadata": {},
   "source": [
    "Your message should be in [markdown](https://daringfireball.net/projects/markdown/syntax) format. It will be converted into a two part email, containing both a plain text and an HTML part, so recipients will see whatever format they're set as their preference for viewing mail. Anything in curly brackets `{}` will be replaced with the contents of the inserts dictionary for that address. If there are no bracketed variables to replace, then you don't need to pass any inserts."
   ]
  },
  {
   "cell_type": "code",
   "execution_count": 10,
   "metadata": {},
   "outputs": [],
   "source": [
    "msg = \"\"\"\n",
    "**Hello there!**\n",
    "\n",
    "Here is your special message: *{special}*\n",
    "\"\"\""
   ]
  },
  {
   "cell_type": "markdown",
   "metadata": {},
   "source": [
    "`inserts` is a list of dictionaries. For each dictionary, the keys should match the bracketed names in your email template, and the values will be filled in to those sections."
   ]
  },
  {
   "cell_type": "code",
   "execution_count": 47,
   "metadata": {},
   "outputs": [],
   "source": [
    "inserts = [{'special': \"You are special.\"}]"
   ]
  },
  {
   "cell_type": "code",
   "execution_count": 48,
   "metadata": {},
   "outputs": [],
   "source": [
    "ml = MarkdownMerge(to_addrs, from_addr, 'A message', msg=msg, inserts=inserts)"
   ]
  },
  {
   "cell_type": "markdown",
   "metadata": {},
   "source": [
    "In the above example, we didn't specify any `server_settings`, so settings will be read from `mail_settings.py`. This is in Django settings format, so you can find complete docs for what can be provided in the [Django mail help](https://docs.djangoproject.com/en/2.2/topics/email/). A sample settings file is provided in the markdown_merge repo.\n",
    "\n",
    "Alternatively, pass a dictionary to `server_settings` with the required keys, for instance:"
   ]
  },
  {
   "cell_type": "code",
   "execution_count": null,
   "metadata": {},
   "outputs": [],
   "source": [
    "cfg = dict(EMAIL_HOST='smtp.fastmail.com', EMAIL_PORT=465,\n",
    "    EMAIL_HOST_USER='aa@example.com', EMAIL_HOST_PASSWORD='XXX', EMAIL_USE_SSL=True)"
   ]
  },
  {
   "cell_type": "code",
   "execution_count": 14,
   "metadata": {},
   "outputs": [
    {
     "data": {
      "text/markdown": [
       "<h4 id=\"MarkdownMerge.set_test\" class=\"doc_header\"><code>MarkdownMerge.set_test</code><a href=\"https://github.com/jph00/markdown_merge/tree/master/__main__.py#L23\" class=\"source_link\" style=\"float:right\">[source]</a></h4>\n",
       "\n",
       "> <code>MarkdownMerge.set_test</code>(**`test`**=*`True`*)\n",
       "\n",
       "When `True`, just print the messages to the console, don't send them"
      ],
      "text/plain": [
       "<IPython.core.display.Markdown object>"
      ]
     },
     "metadata": {},
     "output_type": "display_data"
    }
   ],
   "source": [
    "show_doc(MarkdownMerge.set_test)"
   ]
  },
  {
   "cell_type": "code",
   "execution_count": 18,
   "metadata": {},
   "outputs": [],
   "source": [
    "ml.set_test(True)"
   ]
  },
  {
   "cell_type": "code",
   "execution_count": 23,
   "metadata": {},
   "outputs": [
    {
     "data": {
      "text/markdown": [
       "<h4 id=\"MarkdownMerge.send_msgs\" class=\"doc_header\"><code>MarkdownMerge.send_msgs</code><a href=\"https://github.com/jph00/markdown_merge/tree/master/__main__.py#L12\" class=\"source_link\" style=\"float:right\">[source]</a></h4>\n",
       "\n",
       "> <code>MarkdownMerge.send_msgs</code>(**`pause`**=*`0.5`*)\n",
       "\n",
       "Send all unsent messages to `addrs` with `pause` secs between each send"
      ],
      "text/plain": [
       "<IPython.core.display.Markdown object>"
      ]
     },
     "metadata": {},
     "output_type": "display_data"
    }
   ],
   "source": [
    "show_doc(MarkdownMerge.send_msgs)"
   ]
  },
  {
   "cell_type": "code",
   "execution_count": 32,
   "metadata": {},
   "outputs": [
    {
     "name": "stdout",
     "output_type": "stream",
     "text": [
      "Content-Type: multipart/alternative;\n",
      " boundary=\"===============7994339675932848898==\"\n",
      "MIME-Version: 1.0\n",
      "Subject: A message\n",
      "From: Jeremy Howard <from@example.com>\n",
      "To: Jeremy <to1@example.com>\n",
      "Date: Mon, 25 Nov 2019 06:11:11 -0000\n",
      "Message-ID: <157466227172.47319.9791277819074450547@usf3>\n",
      "\n",
      "--===============7994339675932848898==\n",
      "Content-Type: text/plain; charset=\"utf-8\"\n",
      "MIME-Version: 1.0\n",
      "Content-Transfer-Encoding: 7bit\n",
      "\n",
      "\n",
      "**Hello there!**\n",
      "\n",
      "Here is your special message: *You are special.*\n",
      "\n",
      "--===============7994339675932848898==\n",
      "Content-Type: text/html; charset=\"utf-8\"\n",
      "MIME-Version: 1.0\n",
      "Content-Transfer-Encoding: 7bit\n",
      "\n",
      "<p><strong>Hello there!</strong></p>\n",
      "<p>Here is your special message: <em>You are special.</em></p>\n",
      "--===============7994339675932848898==--\n",
      "\n",
      "-------------------------------------------------------------------------------\n"
     ]
    }
   ],
   "source": [
    "ml.send_msgs(pause=0.5)"
   ]
  },
  {
   "cell_type": "markdown",
   "metadata": {},
   "source": [
    "Use `pause` to avoid sending too many messages too quickly; many SMTP servers restrict sending speed to avoid abuse. If you get an error during sending (e.g. \"too many messages\"), then wait an hour or so, then continue sending, using a larger `pause` value.\n",
    "\n",
    "**NB**: You can just call `send_msgs` again when resending, since the successfully sent message count is saved, and those messages are not re-sent (unless you call `reset`). This includes test sends, therefore you should run reset after a test send."
   ]
  },
  {
   "cell_type": "code",
   "execution_count": 29,
   "metadata": {},
   "outputs": [
    {
     "data": {
      "text/markdown": [
       "<h4 id=\"MarkdownMerge.reset\" class=\"doc_header\"><code>MarkdownMerge.reset</code><a href=\"https://github.com/jph00/markdown_merge/tree/master/__main__.py#L28\" class=\"source_link\" style=\"float:right\">[source]</a></h4>\n",
       "\n",
       "> <code>MarkdownMerge.reset</code>()\n",
       "\n",
       "Reset send message list, so `send_msgs` will start from first message"
      ],
      "text/plain": [
       "<IPython.core.display.Markdown object>"
      ]
     },
     "metadata": {},
     "output_type": "display_data"
    }
   ],
   "source": [
    "show_doc(MarkdownMerge.reset)"
   ]
  },
  {
   "cell_type": "code",
   "execution_count": 31,
   "metadata": {},
   "outputs": [],
   "source": [
    "ml.reset()"
   ]
  },
  {
   "cell_type": "markdown",
   "metadata": {},
   "source": [
    "## Utility functions"
   ]
  },
  {
   "cell_type": "code",
   "execution_count": 27,
   "metadata": {},
   "outputs": [
    {
     "data": {
      "text/markdown": [
       "<h4 id=\"md2email\" class=\"doc_header\"><code>md2email</code><a href=\"https://github.com/jph00/markdown_merge/tree/master/__main__.py#L2\" class=\"source_link\" style=\"float:right\">[source]</a></h4>\n",
       "\n",
       "> <code>md2email</code>(**`subj`**, **`from_addr`**, **`to_addrs`**, **`md`**, **`conn`**=*`None`*, **`attach`**=*`None`*)\n",
       "\n",
       "Create a multipart (markdown HTML and text) email"
      ],
      "text/plain": [
       "<IPython.core.display.Markdown object>"
      ]
     },
     "metadata": {},
     "output_type": "display_data"
    }
   ],
   "source": [
    "show_doc(md2email)"
   ]
  },
  {
   "cell_type": "code",
   "execution_count": 36,
   "metadata": {},
   "outputs": [],
   "source": [
    "eml = md2email(\"hi\", from_addr, to_addrs, msg)"
   ]
  },
  {
   "cell_type": "markdown",
   "metadata": {},
   "source": [
    "The basic email body is the plain text message (note that the template variables in `{}` will be filled in by `MarkdownMerge`):"
   ]
  },
  {
   "cell_type": "code",
   "execution_count": 45,
   "metadata": {},
   "outputs": [
    {
     "name": "stdout",
     "output_type": "stream",
     "text": [
      "\n",
      "**Hello there!**\n",
      "\n",
      "Here is your special message: *{special}*\n",
      "\n"
     ]
    }
   ],
   "source": [
    "print(eml.body)"
   ]
  },
  {
   "cell_type": "markdown",
   "metadata": {},
   "source": [
    "Most email software is set up to display the HTML version:"
   ]
  },
  {
   "cell_type": "code",
   "execution_count": 44,
   "metadata": {},
   "outputs": [
    {
     "data": {
      "text/html": [
       "<p><strong>Hello there!</strong></p>\n",
       "<p>Here is your special message: <em>{special}</em></p>"
      ],
      "text/plain": [
       "<IPython.core.display.HTML object>"
      ]
     },
     "execution_count": 44,
     "metadata": {},
     "output_type": "execute_result"
    }
   ],
   "source": [
    "from IPython.display import HTML\n",
    "html,mimetype = eml.alternatives[0]\n",
    "HTML(html)"
   ]
  },
  {
   "cell_type": "code",
   "execution_count": 28,
   "metadata": {},
   "outputs": [
    {
     "data": {
      "text/markdown": [
       "<h4 id=\"get_addr\" class=\"doc_header\"><code>get_addr</code><a href=\"https://github.com/jph00/markdown_merge/tree/master/__main__.py#L2\" class=\"source_link\" style=\"float:right\">[source]</a></h4>\n",
       "\n",
       "> <code>get_addr</code>(**`email`**, **`name`**=*`None`*)\n",
       "\n",
       "Convert `email` and optional `name` into an email `Address` object"
      ],
      "text/plain": [
       "<IPython.core.display.Markdown object>"
      ]
     },
     "metadata": {},
     "output_type": "display_data"
    }
   ],
   "source": [
    "show_doc(get_addr)"
   ]
  },
  {
   "cell_type": "code",
   "execution_count": 6,
   "metadata": {},
   "outputs": [
    {
     "name": "stdout",
     "output_type": "stream",
     "text": [
      "Converted 00_markdownmail.ipynb.\n",
      "Converted 99_index.ipynb.\n"
     ]
    }
   ],
   "source": [
    "#hide\n",
    "from nbdev.export import notebook2script\n",
    "notebook2script()"
   ]
  },
  {
   "cell_type": "code",
   "execution_count": null,
   "metadata": {},
   "outputs": [],
   "source": []
  }
 ],
 "metadata": {
  "kernelspec": {
   "display_name": "Python 3",
   "language": "python",
   "name": "python3"
  },
  "language_info": {
   "codemirror_mode": {
    "name": "ipython",
    "version": 3
   },
   "file_extension": ".py",
   "mimetype": "text/x-python",
   "name": "python",
   "nbconvert_exporter": "python",
   "pygments_lexer": "ipython3",
   "version": "3.7.4"
  }
 },
 "nbformat": 4,
 "nbformat_minor": 2
}
