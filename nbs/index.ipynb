{
 "cells": [
  {
   "cell_type": "code",
   "execution_count": null,
   "id": "31b860ef",
   "metadata": {},
   "outputs": [],
   "source": [
    "#| hide\n",
    "from markdown_merge import *"
   ]
  },
  {
   "cell_type": "markdown",
   "id": "ab489dda",
   "metadata": {},
   "source": [
    "# MarkdownMerge\n",
    "\n",
    "> Send templated emails in markdown."
   ]
  },
  {
   "cell_type": "markdown",
   "id": "b0c00941",
   "metadata": {},
   "source": [
    "## Install"
   ]
  },
  {
   "cell_type": "markdown",
   "id": "666bc0b3",
   "metadata": {},
   "source": [
    "`pip install markdown_merge`"
   ]
  },
  {
   "cell_type": "markdown",
   "id": "d07b01f7",
   "metadata": {},
   "source": [
    "## How to use"
   ]
  },
  {
   "cell_type": "markdown",
   "id": "b03e073d",
   "metadata": {},
   "source": [
    "### Provide your SMTP server settings, e.g. for AWS SES"
   ]
  },
  {
   "cell_type": "code",
   "execution_count": null,
   "id": "9bca17c5",
   "metadata": {},
   "outputs": [],
   "source": [
    "import os"
   ]
  },
  {
   "cell_type": "code",
   "execution_count": null,
   "id": "b4a72dbf",
   "metadata": {},
   "outputs": [],
   "source": [
    "servernm = 'email-smtp.us-west-2.amazonaws.com'\n",
    "username = os.getenv('SES_SMTP_USER')\n",
    "password = os.getenv('SES_SMTP_PASS')\n",
    "smtp_cfg = dict(host=servernm, port=587, user=username, password=password, use_ssl=False, use_tls=True)"
   ]
  },
  {
   "cell_type": "markdown",
   "id": "f3b28add",
   "metadata": {},
   "source": [
    "You can configure your SMTP server settings using the `smtp_cfg` dictionary format shown above. The example uses AWS SES with environment variables for credentials."
   ]
  },
  {
   "cell_type": "markdown",
   "id": "c6be9d7d",
   "metadata": {},
   "source": [
    "### Provide your email details"
   ]
  },
  {
   "cell_type": "code",
   "execution_count": null,
   "id": "3c85a163",
   "metadata": {},
   "outputs": [],
   "source": [
    "from_addr = get_addr('XXX@fastmail.com', 'Jeremy Howard')\n",
    "to_addrs = [get_addr('douglas@example.com', 'Douglas Adams'),\n",
    "            get_addr('cleese@example.com', 'John Cleese')]\n",
    "inserts  = [{'special': \"Thanks for all the fish.\"},\n",
    "            {'special': \"That was a silly walk.\"}]\n",
    "\n",
    "msg = \"\"\"## Hello there!\n",
    "\n",
    "Here is your special message: *{special}*\"\"\""
   ]
  },
  {
   "cell_type": "code",
   "execution_count": null,
   "id": "eeed8bd7",
   "metadata": {},
   "outputs": [],
   "source": [
    "ml = MarkdownMerge(to_addrs, from_addr, 'A message', msg, smtp_cfg=smtp_cfg, inserts=inserts, test=True)"
   ]
  },
  {
   "cell_type": "markdown",
   "id": "e253e2a7",
   "metadata": {},
   "source": [
    "The `test=True` parameter prints the messages instead of sending them."
   ]
  },
  {
   "cell_type": "markdown",
   "id": "52d9e79f",
   "metadata": {},
   "source": [
    "### Send your messages"
   ]
  },
  {
   "cell_type": "code",
   "execution_count": null,
   "id": "725c7dbe",
   "metadata": {},
   "outputs": [
    {
     "name": "stdout",
     "output_type": "stream",
     "text": [
      "To: Douglas Adams <douglas@example.com>\n",
      "----------------------------------------\n",
      "## Hello there!\n",
      "\n",
      "Here is your special message: *Thanks for all the fish.*\n",
      "========================================\n",
      "\n",
      "To: John Cleese <cleese@example.com>\n",
      "----------------------------------------\n",
      "## Hello there!\n",
      "\n",
      "Here is your special message: *That was a silly walk.*\n",
      "========================================\n",
      "\n"
     ]
    }
   ],
   "source": [
    "ml.send_msgs()"
   ]
  },
  {
   "cell_type": "code",
   "execution_count": null,
   "id": "ae5cba79",
   "metadata": {},
   "outputs": [],
   "source": []
  }
 ],
 "metadata": {},
 "nbformat": 4,
 "nbformat_minor": 5
}
